{
 "cells": [
  {
   "cell_type": "code",
   "execution_count": 2,
   "id": "b6b78c04-63ff-42b8-b12e-ed5783503c67",
   "metadata": {},
   "outputs": [],
   "source": [
    "import openai\n",
    "\n",
    "client = openai.Client(\n",
    "    api_key=\"cannot be empty\", # 随便写\n",
    "    base_url=\"http://localhost:9997/v1\"  # 替换为你的 Xinference 服务器地址\n",
    ")\n"
   ]
  },
  {
   "cell_type": "code",
   "execution_count": 3,
   "id": "d4909976-f0da-45ce-8d0a-73721fe82b49",
   "metadata": {},
   "outputs": [
    {
     "name": "stdout",
     "output_type": "stream",
     "text": [
      "An error occurred: Error code: 500 - {'detail': \"[address=127.0.0.1:48061, pid=247997] local variable 'Normalizer' referenced before assignment\"}\n"
     ]
    }
   ],
   "source": [
    "\n",
    "try:\n",
    "    response = client.audio.speech.create(\n",
    "        model=\"test\",  # 替换为实际的模型 UID\n",
    "        input=\"如果要做流式推理，外接类似HIFIGAN这样的声码器的方式可能不是好的选择。HIFIGAN并不天然支持流式解码！\",\n",
    "        voice=\"echo\", #不知道为啥一定要选个音色，不然会报错\n",
    "    )\n",
    "    \n",
    "    # 保存音频文件\n",
    "    with open(\"output_audio.mp3\", \"wb\") as audio_file:\n",
    "        for chunk in response.iter_bytes():\n",
    "            audio_file.write(chunk)\n",
    "    \n",
    "    print(\"Audio generated and saved as output_audio.mp3\")\n",
    "\n",
    "except Exception as e:\n",
    "    print(f\"An error occurred: {str(e)}\")"
   ]
  },
  {
   "cell_type": "code",
   "execution_count": null,
   "id": "90b4c9a5-4ebf-4f2a-8871-45818072da62",
   "metadata": {},
   "outputs": [],
   "source": []
  }
 ],
 "metadata": {
  "kernelspec": {
   "display_name": "Python 3 (ipykernel)",
   "language": "python",
   "name": "python3"
  },
  "language_info": {
   "codemirror_mode": {
    "name": "ipython",
    "version": 3
   },
   "file_extension": ".py",
   "mimetype": "text/x-python",
   "name": "python",
   "nbconvert_exporter": "python",
   "pygments_lexer": "ipython3",
   "version": "3.10.0"
  }
 },
 "nbformat": 4,
 "nbformat_minor": 5
}
